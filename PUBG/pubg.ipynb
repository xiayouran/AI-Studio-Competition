{
 "cells": [
  {
   "cell_type": "code",
   "execution_count": 1,
   "metadata": {
    "execution": {
     "iopub.execute_input": "2022-08-31T03:17:06.302310Z",
     "iopub.status.busy": "2022-08-31T03:17:06.301301Z",
     "iopub.status.idle": "2022-08-31T03:17:06.710320Z",
     "shell.execute_reply": "2022-08-31T03:17:06.709495Z",
     "shell.execute_reply.started": "2022-08-31T03:17:06.302262Z"
    },
    "scrolled": true,
    "tags": []
   },
   "outputs": [],
   "source": [
    "import pandas as pd\n",
    "import numpy as np"
   ]
  },
  {
   "cell_type": "code",
   "execution_count": 2,
   "metadata": {
    "execution": {
     "iopub.execute_input": "2022-08-31T03:17:08.076449Z",
     "iopub.status.busy": "2022-08-31T03:17:08.075607Z",
     "iopub.status.idle": "2022-08-31T03:17:12.914441Z",
     "shell.execute_reply": "2022-08-31T03:17:12.913204Z",
     "shell.execute_reply.started": "2022-08-31T03:17:08.076402Z"
    },
    "scrolled": true,
    "tags": []
   },
   "outputs": [],
   "source": [
    "train_datapath = 'data/data137263/pubg_train.csv.zip'\n",
    "test_datapath = 'data/data137263/pubg_test.csv.zip'\n",
    "\n",
    "train_df = pd.read_csv(train_datapath)\n",
    "test_df = pd.read_csv(test_datapath)"
   ]
  },
  {
   "cell_type": "code",
   "execution_count": 3,
   "metadata": {
    "execution": {
     "iopub.execute_input": "2022-08-31T03:17:15.547979Z",
     "iopub.status.busy": "2022-08-31T03:17:15.547343Z",
     "iopub.status.idle": "2022-08-31T03:17:15.559153Z",
     "shell.execute_reply": "2022-08-31T03:17:15.558262Z",
     "shell.execute_reply.started": "2022-08-31T03:17:15.547939Z"
    },
    "scrolled": true,
    "tags": []
   },
   "outputs": [
    {
     "data": {
      "text/plain": [
       "((1500000, 16), (500000, 15))"
      ]
     },
     "execution_count": 3,
     "metadata": {},
     "output_type": "execute_result"
    }
   ],
   "source": [
    "train_df.shape, test_df.shape"
   ]
  },
  {
   "cell_type": "code",
   "execution_count": 4,
   "metadata": {
    "execution": {
     "iopub.execute_input": "2022-08-31T03:17:17.182839Z",
     "iopub.status.busy": "2022-08-31T03:17:17.182223Z",
     "iopub.status.idle": "2022-08-31T03:17:17.209628Z",
     "shell.execute_reply": "2022-08-31T03:17:17.208859Z",
     "shell.execute_reply.started": "2022-08-31T03:17:17.182797Z"
    },
    "scrolled": true,
    "tags": []
   },
   "outputs": [
    {
     "data": {
      "text/html": [
       "<div>\n",
       "<style scoped>\n",
       "    .dataframe tbody tr th:only-of-type {\n",
       "        vertical-align: middle;\n",
       "    }\n",
       "\n",
       "    .dataframe tbody tr th {\n",
       "        vertical-align: top;\n",
       "    }\n",
       "\n",
       "    .dataframe thead th {\n",
       "        text-align: right;\n",
       "    }\n",
       "</style>\n",
       "<table border=\"1\" class=\"dataframe\">\n",
       "  <thead>\n",
       "    <tr style=\"text-align: right;\">\n",
       "      <th></th>\n",
       "      <th>match_id</th>\n",
       "      <th>team_id</th>\n",
       "      <th>game_size</th>\n",
       "      <th>party_size</th>\n",
       "      <th>player_assists</th>\n",
       "      <th>player_dbno</th>\n",
       "      <th>player_dist_ride</th>\n",
       "      <th>player_dist_walk</th>\n",
       "      <th>player_dmg</th>\n",
       "      <th>player_kills</th>\n",
       "      <th>player_name</th>\n",
       "      <th>kill_distance_x_min</th>\n",
       "      <th>kill_distance_x_max</th>\n",
       "      <th>kill_distance_y_min</th>\n",
       "      <th>kill_distance_y_max</th>\n",
       "      <th>team_placement</th>\n",
       "    </tr>\n",
       "  </thead>\n",
       "  <tbody>\n",
       "    <tr>\n",
       "      <th>0</th>\n",
       "      <td>0</td>\n",
       "      <td>1</td>\n",
       "      <td>50</td>\n",
       "      <td>2</td>\n",
       "      <td>0</td>\n",
       "      <td>1</td>\n",
       "      <td>4984.54900</td>\n",
       "      <td>2054.031490</td>\n",
       "      <td>218</td>\n",
       "      <td>2</td>\n",
       "      <td>0</td>\n",
       "      <td>1689.9</td>\n",
       "      <td>3992.9</td>\n",
       "      <td>137.0</td>\n",
       "      <td>819.8</td>\n",
       "      <td>5</td>\n",
       "    </tr>\n",
       "    <tr>\n",
       "      <th>1</th>\n",
       "      <td>0</td>\n",
       "      <td>1</td>\n",
       "      <td>50</td>\n",
       "      <td>2</td>\n",
       "      <td>1</td>\n",
       "      <td>0</td>\n",
       "      <td>5960.46436</td>\n",
       "      <td>2268.221000</td>\n",
       "      <td>125</td>\n",
       "      <td>0</td>\n",
       "      <td>1</td>\n",
       "      <td>NaN</td>\n",
       "      <td>NaN</td>\n",
       "      <td>NaN</td>\n",
       "      <td>NaN</td>\n",
       "      <td>5</td>\n",
       "    </tr>\n",
       "    <tr>\n",
       "      <th>2</th>\n",
       "      <td>0</td>\n",
       "      <td>2</td>\n",
       "      <td>50</td>\n",
       "      <td>2</td>\n",
       "      <td>0</td>\n",
       "      <td>0</td>\n",
       "      <td>0.00000</td>\n",
       "      <td>0.000000</td>\n",
       "      <td>0</td>\n",
       "      <td>0</td>\n",
       "      <td>2</td>\n",
       "      <td>NaN</td>\n",
       "      <td>NaN</td>\n",
       "      <td>NaN</td>\n",
       "      <td>NaN</td>\n",
       "      <td>49</td>\n",
       "    </tr>\n",
       "    <tr>\n",
       "      <th>3</th>\n",
       "      <td>0</td>\n",
       "      <td>2</td>\n",
       "      <td>50</td>\n",
       "      <td>2</td>\n",
       "      <td>0</td>\n",
       "      <td>0</td>\n",
       "      <td>0.00000</td>\n",
       "      <td>5.211829</td>\n",
       "      <td>41</td>\n",
       "      <td>0</td>\n",
       "      <td>3</td>\n",
       "      <td>NaN</td>\n",
       "      <td>NaN</td>\n",
       "      <td>NaN</td>\n",
       "      <td>NaN</td>\n",
       "      <td>49</td>\n",
       "    </tr>\n",
       "    <tr>\n",
       "      <th>4</th>\n",
       "      <td>0</td>\n",
       "      <td>3</td>\n",
       "      <td>50</td>\n",
       "      <td>2</td>\n",
       "      <td>0</td>\n",
       "      <td>0</td>\n",
       "      <td>0.00000</td>\n",
       "      <td>341.730927</td>\n",
       "      <td>69</td>\n",
       "      <td>0</td>\n",
       "      <td>4</td>\n",
       "      <td>NaN</td>\n",
       "      <td>NaN</td>\n",
       "      <td>NaN</td>\n",
       "      <td>NaN</td>\n",
       "      <td>34</td>\n",
       "    </tr>\n",
       "    <tr>\n",
       "      <th>...</th>\n",
       "      <td>...</td>\n",
       "      <td>...</td>\n",
       "      <td>...</td>\n",
       "      <td>...</td>\n",
       "      <td>...</td>\n",
       "      <td>...</td>\n",
       "      <td>...</td>\n",
       "      <td>...</td>\n",
       "      <td>...</td>\n",
       "      <td>...</td>\n",
       "      <td>...</td>\n",
       "      <td>...</td>\n",
       "      <td>...</td>\n",
       "      <td>...</td>\n",
       "      <td>...</td>\n",
       "      <td>...</td>\n",
       "    </tr>\n",
       "    <tr>\n",
       "      <th>1499995</th>\n",
       "      <td>14999</td>\n",
       "      <td>4</td>\n",
       "      <td>28</td>\n",
       "      <td>4</td>\n",
       "      <td>0</td>\n",
       "      <td>1</td>\n",
       "      <td>0.00000</td>\n",
       "      <td>2236.734620</td>\n",
       "      <td>284</td>\n",
       "      <td>0</td>\n",
       "      <td>992602</td>\n",
       "      <td>NaN</td>\n",
       "      <td>NaN</td>\n",
       "      <td>NaN</td>\n",
       "      <td>NaN</td>\n",
       "      <td>10</td>\n",
       "    </tr>\n",
       "    <tr>\n",
       "      <th>1499996</th>\n",
       "      <td>14999</td>\n",
       "      <td>26</td>\n",
       "      <td>28</td>\n",
       "      <td>4</td>\n",
       "      <td>0</td>\n",
       "      <td>2</td>\n",
       "      <td>0.00000</td>\n",
       "      <td>700.453100</td>\n",
       "      <td>225</td>\n",
       "      <td>0</td>\n",
       "      <td>992603</td>\n",
       "      <td>NaN</td>\n",
       "      <td>NaN</td>\n",
       "      <td>NaN</td>\n",
       "      <td>NaN</td>\n",
       "      <td>20</td>\n",
       "    </tr>\n",
       "    <tr>\n",
       "      <th>1499997</th>\n",
       "      <td>14999</td>\n",
       "      <td>26</td>\n",
       "      <td>28</td>\n",
       "      <td>4</td>\n",
       "      <td>0</td>\n",
       "      <td>1</td>\n",
       "      <td>0.00000</td>\n",
       "      <td>861.909600</td>\n",
       "      <td>40</td>\n",
       "      <td>1</td>\n",
       "      <td>992604</td>\n",
       "      <td>259.3</td>\n",
       "      <td>259.3</td>\n",
       "      <td>76.7</td>\n",
       "      <td>76.7</td>\n",
       "      <td>20</td>\n",
       "    </tr>\n",
       "    <tr>\n",
       "      <th>1499998</th>\n",
       "      <td>14999</td>\n",
       "      <td>26</td>\n",
       "      <td>28</td>\n",
       "      <td>4</td>\n",
       "      <td>0</td>\n",
       "      <td>0</td>\n",
       "      <td>0.00000</td>\n",
       "      <td>844.545837</td>\n",
       "      <td>134</td>\n",
       "      <td>0</td>\n",
       "      <td>992605</td>\n",
       "      <td>NaN</td>\n",
       "      <td>NaN</td>\n",
       "      <td>NaN</td>\n",
       "      <td>NaN</td>\n",
       "      <td>20</td>\n",
       "    </tr>\n",
       "    <tr>\n",
       "      <th>1499999</th>\n",
       "      <td>14999</td>\n",
       "      <td>26</td>\n",
       "      <td>28</td>\n",
       "      <td>4</td>\n",
       "      <td>0</td>\n",
       "      <td>1</td>\n",
       "      <td>0.00000</td>\n",
       "      <td>725.483000</td>\n",
       "      <td>96</td>\n",
       "      <td>0</td>\n",
       "      <td>871051</td>\n",
       "      <td>NaN</td>\n",
       "      <td>NaN</td>\n",
       "      <td>NaN</td>\n",
       "      <td>NaN</td>\n",
       "      <td>20</td>\n",
       "    </tr>\n",
       "  </tbody>\n",
       "</table>\n",
       "<p>1500000 rows × 16 columns</p>\n",
       "</div>"
      ],
      "text/plain": [
       "         match_id  team_id  game_size  party_size  player_assists  \\\n",
       "0               0        1         50           2               0   \n",
       "1               0        1         50           2               1   \n",
       "2               0        2         50           2               0   \n",
       "3               0        2         50           2               0   \n",
       "4               0        3         50           2               0   \n",
       "...           ...      ...        ...         ...             ...   \n",
       "1499995     14999        4         28           4               0   \n",
       "1499996     14999       26         28           4               0   \n",
       "1499997     14999       26         28           4               0   \n",
       "1499998     14999       26         28           4               0   \n",
       "1499999     14999       26         28           4               0   \n",
       "\n",
       "         player_dbno  player_dist_ride  player_dist_walk  player_dmg  \\\n",
       "0                  1        4984.54900       2054.031490         218   \n",
       "1                  0        5960.46436       2268.221000         125   \n",
       "2                  0           0.00000          0.000000           0   \n",
       "3                  0           0.00000          5.211829          41   \n",
       "4                  0           0.00000        341.730927          69   \n",
       "...              ...               ...               ...         ...   \n",
       "1499995            1           0.00000       2236.734620         284   \n",
       "1499996            2           0.00000        700.453100         225   \n",
       "1499997            1           0.00000        861.909600          40   \n",
       "1499998            0           0.00000        844.545837         134   \n",
       "1499999            1           0.00000        725.483000          96   \n",
       "\n",
       "         player_kills  player_name  kill_distance_x_min  kill_distance_x_max  \\\n",
       "0                   2            0               1689.9               3992.9   \n",
       "1                   0            1                  NaN                  NaN   \n",
       "2                   0            2                  NaN                  NaN   \n",
       "3                   0            3                  NaN                  NaN   \n",
       "4                   0            4                  NaN                  NaN   \n",
       "...               ...          ...                  ...                  ...   \n",
       "1499995             0       992602                  NaN                  NaN   \n",
       "1499996             0       992603                  NaN                  NaN   \n",
       "1499997             1       992604                259.3                259.3   \n",
       "1499998             0       992605                  NaN                  NaN   \n",
       "1499999             0       871051                  NaN                  NaN   \n",
       "\n",
       "         kill_distance_y_min  kill_distance_y_max  team_placement  \n",
       "0                      137.0                819.8               5  \n",
       "1                        NaN                  NaN               5  \n",
       "2                        NaN                  NaN              49  \n",
       "3                        NaN                  NaN              49  \n",
       "4                        NaN                  NaN              34  \n",
       "...                      ...                  ...             ...  \n",
       "1499995                  NaN                  NaN              10  \n",
       "1499996                  NaN                  NaN              20  \n",
       "1499997                 76.7                 76.7              20  \n",
       "1499998                  NaN                  NaN              20  \n",
       "1499999                  NaN                  NaN              20  \n",
       "\n",
       "[1500000 rows x 16 columns]"
      ]
     },
     "execution_count": 4,
     "metadata": {},
     "output_type": "execute_result"
    }
   ],
   "source": [
    "# train_df.head()\n",
    "train_df"
   ]
  },
  {
   "cell_type": "code",
   "execution_count": 5,
   "metadata": {
    "execution": {
     "iopub.execute_input": "2022-08-31T03:17:18.725892Z",
     "iopub.status.busy": "2022-08-31T03:17:18.724746Z",
     "iopub.status.idle": "2022-08-31T03:17:18.908306Z",
     "shell.execute_reply": "2022-08-31T03:17:18.907405Z",
     "shell.execute_reply.started": "2022-08-31T03:17:18.725849Z"
    },
    "scrolled": true,
    "tags": []
   },
   "outputs": [],
   "source": [
    "train_df = train_df.drop(['match_id', 'team_id', 'player_name', 'kill_distance_x_min', 'kill_distance_x_max', 'kill_distance_y_min', 'kill_distance_y_max'], axis=1)\n",
    "test_df = test_df.drop(['match_id', 'team_id', 'player_name', 'kill_distance_x_min', 'kill_distance_x_max', 'kill_distance_y_min', 'kill_distance_y_max'], axis=1)\n",
    "\n",
    "# train_df = train_df.drop(['match_id', 'team_id', 'player_name'], axis=1)\n",
    "# test_df = test_df.drop(['match_id', 'team_id', 'player_name'], axis=1)\n",
    "\n",
    "train_df = train_df.fillna(0)\n",
    "test_df = test_df.fillna(0)"
   ]
  },
  {
   "cell_type": "code",
   "execution_count": 6,
   "metadata": {
    "execution": {
     "iopub.execute_input": "2022-08-31T03:17:20.833067Z",
     "iopub.status.busy": "2022-08-31T03:17:20.832453Z",
     "iopub.status.idle": "2022-08-31T03:17:21.195950Z",
     "shell.execute_reply": "2022-08-31T03:17:21.195028Z",
     "shell.execute_reply.started": "2022-08-31T03:17:20.833030Z"
    },
    "scrolled": true,
    "tags": []
   },
   "outputs": [],
   "source": [
    "# 数值归一化\n",
    "for col in train_df.columns[:-1]:\n",
    "    train_df[col] /= train_df[col].max()\n",
    "    test_df[col] /= test_df[col].max()"
   ]
  },
  {
   "cell_type": "markdown",
   "metadata": {},
   "source": [
    "## 神经网络预测"
   ]
  },
  {
   "cell_type": "code",
   "execution_count": 28,
   "metadata": {
    "execution": {
     "iopub.execute_input": "2022-08-19T08:52:07.218621Z",
     "iopub.status.busy": "2022-08-19T08:52:07.217492Z",
     "iopub.status.idle": "2022-08-19T08:52:07.224672Z",
     "shell.execute_reply": "2022-08-19T08:52:07.223907Z",
     "shell.execute_reply.started": "2022-08-19T08:52:07.218587Z"
    },
    "scrolled": true,
    "tags": []
   },
   "outputs": [],
   "source": [
    "import paddle\n",
    "\n",
    "\n",
    "class PUBGRegressor(paddle.nn.Layer):\n",
    "    def __init__(self):\n",
    "        super(PUBGRegressor, self).__init__()\n",
    "        \n",
    "        self.fc1 = paddle.nn.Linear(in_features=13, out_features=40)\n",
    "        self.fc2 = paddle.nn.Linear(in_features=40, out_features=20)\n",
    "        self.fc3 = paddle.nn.Linear(in_features=20, out_features=1)\n",
    "\n",
    "        self.relu = paddle.nn.ReLU()\n",
    "    \n",
    "    def forward(self, inputs):\n",
    "        x = self.fc1(inputs)\n",
    "        x = self.relu(x)\n",
    "        x = self.fc2(x)\n",
    "        x = self.relu(x)\n",
    "        x = self.fc3(x)\n",
    "        x = self.relu(x)\n",
    "        return x\n",
    "\n",
    "# MAE: 7.271852\n",
    "# submission: 92.5505\n",
    "# EPOCH_NUM: 50"
   ]
  },
  {
   "cell_type": "code",
   "execution_count": 7,
   "metadata": {
    "execution": {
     "iopub.execute_input": "2022-08-31T03:17:23.875058Z",
     "iopub.status.busy": "2022-08-31T03:17:23.874118Z",
     "iopub.status.idle": "2022-08-31T03:17:25.234107Z",
     "shell.execute_reply": "2022-08-31T03:17:25.232942Z",
     "shell.execute_reply.started": "2022-08-31T03:17:23.875018Z"
    },
    "scrolled": true,
    "tags": []
   },
   "outputs": [],
   "source": [
    "import paddle\n",
    "\n",
    "\n",
    "class PUBGRegressor(paddle.nn.Layer):\n",
    "    def __init__(self):\n",
    "        super(PUBGRegressor, self).__init__()\n",
    "        \n",
    "        self.fc1 = paddle.nn.Linear(in_features=8, out_features=64)\n",
    "        self.fc2 = paddle.nn.Linear(in_features=64, out_features=128)\n",
    "        self.fc3 = paddle.nn.Linear(in_features=128, out_features=256)\n",
    "        self.fc4 = paddle.nn.Linear(in_features=256, out_features=512)\n",
    "        self.fc5 = paddle.nn.Linear(in_features=512, out_features=1024)\n",
    "        self.fc6 = paddle.nn.Linear(in_features=1024, out_features=2048)\n",
    "        self.fc7 = paddle.nn.Linear(in_features=2048, out_features=2048)\n",
    "        self.fc8 = paddle.nn.Linear(in_features=2048, out_features=2048)\n",
    "        self.fc9 = paddle.nn.Linear(in_features=2048, out_features=1024)\n",
    "        self.fc10 = paddle.nn.Linear(in_features=1024, out_features=512)\n",
    "        self.fc11 = paddle.nn.Linear(in_features=512, out_features=256)\n",
    "        self.fc12 = paddle.nn.Linear(in_features=256, out_features=128)\n",
    "        self.fc13 = paddle.nn.Linear(in_features=128, out_features=64)\n",
    "        self.fc14 = paddle.nn.Linear(in_features=64, out_features=1)\n",
    "\n",
    "        self.relu = paddle.nn.ReLU()\n",
    "    \n",
    "    def forward(self, inputs):\n",
    "        x = self.fc1(inputs)\n",
    "        x = self.relu(x)\n",
    "        x = self.fc2(x)\n",
    "        x = self.relu(x)\n",
    "        x = self.fc3(x)\n",
    "        x = self.relu(x)\n",
    "        x = self.fc4(x)\n",
    "        x = self.relu(x)\n",
    "        x = self.fc5(x)\n",
    "        x = self.relu(x)\n",
    "        x = self.fc6(x)\n",
    "        x = self.relu(x)\n",
    "        x = self.fc7(x)\n",
    "        x = self.relu(x)\n",
    "        x = self.fc8(x)\n",
    "        x = self.relu(x)\n",
    "        x = self.fc9(x)\n",
    "        x = self.relu(x)\n",
    "        x = self.fc10(x)\n",
    "        x = self.relu(x)\n",
    "        x = self.fc11(x)\n",
    "        x = self.relu(x)\n",
    "        x = self.fc12(x)\n",
    "        x = self.relu(x)\n",
    "        x = self.fc13(x)\n",
    "        x = self.relu(x)\n",
    "        x = self.fc14(x)\n",
    "\n",
    "        return x\n",
    "\n",
    "# in_shape: 8\n",
    "# optimizer: Adam\n",
    "# MAE: 4.539792\n",
    "# submission: 95.3586\n",
    "# EPOCH_NUM: 200(100多个epoch久收敛了)"
   ]
  },
  {
   "cell_type": "code",
   "execution_count": 9,
   "metadata": {
    "execution": {
     "iopub.execute_input": "2022-08-31T03:17:30.359674Z",
     "iopub.status.busy": "2022-08-31T03:17:30.358981Z",
     "iopub.status.idle": "2022-08-31T03:17:30.374330Z",
     "shell.execute_reply": "2022-08-31T03:17:30.373591Z",
     "shell.execute_reply.started": "2022-08-31T03:17:30.359637Z"
    },
    "scrolled": true,
    "tags": []
   },
   "outputs": [],
   "source": [
    "# 声明定义好的线性回归模型\n",
    "model = PUBGRegressor()\n",
    "\n",
    "# 开启模型训练模式\n",
    "model.train()\n",
    "\n",
    "# 定义优化算法，使用随机梯度下降SGD\n",
    "scheduler = paddle.optimizer.lr.CosineAnnealingDecay(learning_rate=0.01, T_max=200)\n",
    "# opt = paddle.optimizer.SGD(learning_rate=scheduler, parameters=model.parameters())\n",
    "opt = paddle.optimizer.Adam(learning_rate=scheduler, parameters=model.parameters())\n",
    "# loss_func = paddle.nn.MSELoss()"
   ]
  },
  {
   "cell_type": "code",
   "execution_count": null,
   "metadata": {
    "scrolled": true,
    "tags": []
   },
   "outputs": [],
   "source": [
    "EPOCH_NUM = 200\n",
    "BATCH_SIZE = 1000\n",
    "training_data = train_df.iloc[:-10000].values.astype(np.float32)\n",
    "val_data = train_df.iloc[-10000:].values.astype(np.float32)\n",
    "min_loss = 100\n",
    "\n",
    "# 定义外层循环\n",
    "for epoch_id in range(EPOCH_NUM):\n",
    "    # 在每轮迭代开始之前，将训练数据的顺序随机的打乱\n",
    "    np.random.shuffle(training_data)\n",
    "    \n",
    "    # 将训练数据进行拆分，每个batch包含10条数据\n",
    "    mini_batches = [training_data[k:k+BATCH_SIZE] for k in range(0, len(training_data), BATCH_SIZE)]\n",
    "    \n",
    "    train_loss = []\n",
    "    for iter_id, mini_batch in enumerate(mini_batches):\n",
    "        # 清空梯度变量，以备下一轮计算\n",
    "        opt.clear_grad()\n",
    "\n",
    "        x = np.array(mini_batch[:, :-1])\n",
    "        y = np.array(mini_batch[:, -1:])\n",
    "        \n",
    "        # 将numpy数据转为飞桨动态图tensor的格式\n",
    "        features = paddle.to_tensor(x)\n",
    "        y = paddle.to_tensor(y)\n",
    "        \n",
    "        # 前向计算\n",
    "        predicts = model(features)\n",
    "        \n",
    "        # 计算损失\n",
    "        loss = paddle.nn.functional.l1_loss(predicts, label=y)\n",
    "        # loss = loss_func(predicts, label=y)\n",
    "        avg_loss = paddle.mean(loss)\n",
    "        train_loss.append(avg_loss.numpy())\n",
    "        \n",
    "        # 反向传播，计算每层参数的梯度值\n",
    "        avg_loss.backward()\n",
    "\n",
    "        # 更新参数，根据设置好的学习率迭代一步\n",
    "        opt.step()\n",
    "    \n",
    "    mini_batches = [val_data[k:k+BATCH_SIZE] for k in range(0, len(val_data), BATCH_SIZE)]\n",
    "    val_loss = []\n",
    "    for iter_id, mini_batch in enumerate(mini_batches):\n",
    "        x = np.array(mini_batch[:, :-1])\n",
    "        y = np.array(mini_batch[:, -1:])\n",
    "        \n",
    "        features = paddle.to_tensor(x)\n",
    "        y = paddle.to_tensor(y)\n",
    "        \n",
    "        predicts = model(features)\n",
    "        loss = paddle.nn.functional.l1_loss(predicts, label=y)\n",
    "        # loss = loss_func(predicts, label=y)\n",
    "        avg_loss = paddle.mean(loss)\n",
    "        val_loss.append(avg_loss.numpy())\n",
    "\n",
    "    print(f'Epoch {epoch_id}, train MAE {np.mean(train_loss)}, val MAE {np.mean(val_loss)}')\n",
    "\n",
    "    if min_loss > np.mean(val_loss):\n",
    "        min_loss = np.mean(val_loss)\n",
    "        paddle.save(model.state_dict(), 'best.model')\n",
    "        print(\"min loss: \", min_loss)"
   ]
  },
  {
   "cell_type": "code",
   "execution_count": 10,
   "metadata": {
    "execution": {
     "iopub.execute_input": "2022-08-31T03:17:34.030043Z",
     "iopub.status.busy": "2022-08-31T03:17:34.029404Z",
     "iopub.status.idle": "2022-08-31T03:17:35.618846Z",
     "shell.execute_reply": "2022-08-31T03:17:35.617829Z",
     "shell.execute_reply.started": "2022-08-31T03:17:34.030001Z"
    },
    "scrolled": true,
    "tags": []
   },
   "outputs": [],
   "source": [
    "model.set_state_dict(paddle.load('loss4.539792.model'))\n",
    "model.eval()\n",
    "test_data = paddle.to_tensor(test_df.values.astype(np.float32))\n",
    "test_predict = model(test_data)\n",
    "test_predict = test_predict.numpy().flatten()\n",
    "test_predict = test_predict.round().astype(int)"
   ]
  },
  {
   "cell_type": "code",
   "execution_count": 11,
   "metadata": {
    "execution": {
     "iopub.execute_input": "2022-08-31T03:17:39.239627Z",
     "iopub.status.busy": "2022-08-31T03:17:39.239006Z",
     "iopub.status.idle": "2022-08-31T03:17:40.191260Z",
     "shell.execute_reply": "2022-08-31T03:17:40.190253Z",
     "shell.execute_reply.started": "2022-08-31T03:17:39.239588Z"
    },
    "scrolled": true,
    "tags": []
   },
   "outputs": [
    {
     "name": "stdout",
     "output_type": "stream",
     "text": [
      "updating: submission.csv (deflated 69%)\n"
     ]
    }
   ],
   "source": [
    "pd.DataFrame({\n",
    "    'team_placement': test_predict\n",
    "}).to_csv('submission.csv', index=None)\n",
    "\n",
    "!zip submission.zip submission.csv"
   ]
  },
  {
   "cell_type": "code",
   "execution_count": 12,
   "metadata": {
    "execution": {
     "iopub.execute_input": "2022-08-31T03:17:46.876819Z",
     "iopub.status.busy": "2022-08-31T03:17:46.876178Z",
     "iopub.status.idle": "2022-08-31T03:17:46.883326Z",
     "shell.execute_reply": "2022-08-31T03:17:46.882426Z",
     "shell.execute_reply.started": "2022-08-31T03:17:46.876781Z"
    },
    "scrolled": true,
    "tags": []
   },
   "outputs": [
    {
     "data": {
      "text/plain": [
       "array([24, 20, 39, ..., 21, 23, 23])"
      ]
     },
     "execution_count": 12,
     "metadata": {},
     "output_type": "execute_result"
    }
   ],
   "source": [
    "test_predict"
   ]
  },
  {
   "cell_type": "code",
   "execution_count": null,
   "metadata": {
    "scrolled": true
   },
   "outputs": [],
   "source": [
    "# 测试集中label字段team_placement为空，需要选手预测。完整的数据字段含义如下：\n",
    "\n",
    "# match_id：本局游戏的id\n",
    "# team_id：本局游戏中队伍id，表示在每局游戏中队伍信息\n",
    "# game_size：本局队伍数量\n",
    "# party_size：本局游戏中队伍人数\n",
    "# player_assists：玩家助攻数\n",
    "# player_dbno：玩家击倒数\n",
    "# player_dist_ride：玩家车辆行驶距离\n",
    "# player_dist_walk：玩家不幸距离\n",
    "# player_dmg：输出伤害值\n",
    "# player_kills：玩家击杀数\n",
    "# player_name：玩家名称，在训练集和测试集中全局唯一\n",
    "# kill_distance_x_min：击杀另一位选手时最小的x坐标间隔\n",
    "# kill_distance_x_max：击杀另一位选手时最大的x坐标间隔\n",
    "# kill_distance_y_min：击杀另一位选手时最小的y坐标间隔\n",
    "# kill_distance_y_max：击杀另一位选手时最大的x坐标间隔\n",
    "# team_placement：队伍排名"
   ]
  },
  {
   "cell_type": "code",
   "execution_count": 12,
   "metadata": {
    "execution": {
     "iopub.execute_input": "2022-08-25T12:00:48.913855Z",
     "iopub.status.busy": "2022-08-25T12:00:48.912760Z",
     "iopub.status.idle": "2022-08-25T12:00:49.267406Z",
     "shell.execute_reply": "2022-08-25T12:00:49.266574Z",
     "shell.execute_reply.started": "2022-08-25T12:00:48.913806Z"
    },
    "scrolled": true,
    "tags": []
   },
   "outputs": [
    {
     "data": {
      "text/plain": [
       "99.5"
      ]
     },
     "execution_count": 12,
     "metadata": {},
     "output_type": "execute_result"
    }
   ],
   "source": [
    "# 本次竞赛的使用绝对回归误差MAE进行评分，数值越低精度越高，评估代码参考：\n",
    "from sklearn.metrics import mean_absolute_error\n",
    "y_pred = [0, 2, 1, 3]\n",
    "y_true = [0, 1, 2, 3]\n",
    "100 - mean_absolute_error(y_true, y_pred)"
   ]
  },
  {
   "cell_type": "markdown",
   "metadata": {},
   "source": [
    "## 传统机器学习预测"
   ]
  },
  {
   "cell_type": "markdown",
   "metadata": {},
   "source": [
    "### 决策树"
   ]
  },
  {
   "cell_type": "code",
   "execution_count": 22,
   "metadata": {
    "execution": {
     "iopub.execute_input": "2022-08-30T11:40:06.632062Z",
     "iopub.status.busy": "2022-08-30T11:40:06.631149Z",
     "iopub.status.idle": "2022-08-30T11:40:06.635798Z",
     "shell.execute_reply": "2022-08-30T11:40:06.635112Z",
     "shell.execute_reply.started": "2022-08-30T11:40:06.632029Z"
    },
    "scrolled": true,
    "tags": []
   },
   "outputs": [],
   "source": [
    "from sklearn.tree import DecisionTreeRegressor\n",
    "from sklearn.ensemble import GradientBoostingRegressor\n",
    "from sklearn.metrics import mean_absolute_error\n",
    "from sklearn.model_selection import train_test_split, cross_val_score"
   ]
  },
  {
   "cell_type": "code",
   "execution_count": 23,
   "metadata": {
    "execution": {
     "iopub.execute_input": "2022-08-30T11:40:08.441139Z",
     "iopub.status.busy": "2022-08-30T11:40:08.440254Z",
     "iopub.status.idle": "2022-08-30T11:40:08.654985Z",
     "shell.execute_reply": "2022-08-30T11:40:08.654126Z",
     "shell.execute_reply.started": "2022-08-30T11:40:08.441106Z"
    },
    "scrolled": true,
    "tags": []
   },
   "outputs": [],
   "source": [
    "seed = 10086\n",
    "# x_train, x_test, y_train, y_test = train_test_split(train_data, train_label, test_size=0.1, random_state=seed)\n",
    "training_data = train_df.iloc[:-10000].values.astype(np.float32)\n",
    "val_data = train_df.iloc[-10000:].values.astype(np.float32)"
   ]
  },
  {
   "cell_type": "code",
   "execution_count": null,
   "metadata": {
    "scrolled": true,
    "tags": []
   },
   "outputs": [],
   "source": [
    "# default setting\n",
    "# model = DecisionTreeRegressor(criterion='mse', splitter='best', random_state=seed)\n",
    "model = GradientBoostingRegressor(n_estimators=100, random_state=seed)\n",
    "model.fit(training_data[:, :-1], training_data[:, -1:])\n",
    "\n",
    "val_pred = model.predict(val_data[:, :-1])\n",
    "loss = mean_absolute_error(val_data[:, -1:], val_pred)"
   ]
  },
  {
   "cell_type": "code",
   "execution_count": 26,
   "metadata": {
    "execution": {
     "iopub.execute_input": "2022-08-30T11:44:18.936168Z",
     "iopub.status.busy": "2022-08-30T11:44:18.935653Z",
     "iopub.status.idle": "2022-08-30T11:44:18.941593Z",
     "shell.execute_reply": "2022-08-30T11:44:18.940697Z",
     "shell.execute_reply.started": "2022-08-30T11:44:18.936136Z"
    },
    "scrolled": true,
    "tags": []
   },
   "outputs": [
    {
     "data": {
      "text/plain": [
       "5.344229589993921"
      ]
     },
     "execution_count": 26,
     "metadata": {},
     "output_type": "execute_result"
    }
   ],
   "source": [
    "loss"
   ]
  },
  {
   "cell_type": "code",
   "execution_count": null,
   "metadata": {
    "scrolled": true,
    "tags": []
   },
   "outputs": [],
   "source": [
    "loss_list = []\n",
    "for i in range(100, 600, 10):\n",
    "    model = GradientBoostingRegressor(n_estimators=i, random_state=seed)\n",
    "\n",
    "    model.fit(training_data[:, :-1], training_data[:, -1:])\n",
    "    val_pred = model.predict(val_data[:, :-1])\n",
    "    loss = mean_absolute_error(val_data[:, -1:], val_pred)\n",
    "    \n",
    "    # loss = cross_val_score(model, train_data[:, :-1], train_data[:, -1:], cv=10, scoring='neg_mean_absolute_error').mean()\n",
    "    loss_list.append(loss)\n",
    "    print(i, loss)"
   ]
  },
  {
   "cell_type": "code",
   "execution_count": 27,
   "metadata": {
    "execution": {
     "iopub.execute_input": "2022-08-30T11:44:27.029875Z",
     "iopub.status.busy": "2022-08-30T11:44:27.028960Z",
     "iopub.status.idle": "2022-08-30T11:44:27.033719Z",
     "shell.execute_reply": "2022-08-30T11:44:27.032723Z",
     "shell.execute_reply.started": "2022-08-30T11:44:27.029841Z"
    },
    "scrolled": true,
    "tags": []
   },
   "outputs": [],
   "source": [
    "import xgboost as xgb"
   ]
  },
  {
   "cell_type": "code",
   "execution_count": 28,
   "metadata": {
    "execution": {
     "iopub.execute_input": "2022-08-30T11:44:28.945412Z",
     "iopub.status.busy": "2022-08-30T11:44:28.944514Z",
     "iopub.status.idle": "2022-08-30T11:44:30.199004Z",
     "shell.execute_reply": "2022-08-30T11:44:30.197943Z",
     "shell.execute_reply.started": "2022-08-30T11:44:28.945378Z"
    },
    "scrolled": true,
    "tags": []
   },
   "outputs": [],
   "source": [
    "model = xgb.XGBRegressor(n_estimators=100, random_state=seed, tree_method='gpu_hist')\n",
    "model.fit(training_data[:, :-1], training_data[:, -1:])\n",
    "\n",
    "val_pred = model.predict(val_data[:, :-1])\n",
    "loss = mean_absolute_error(val_data[:, -1:], val_pred)"
   ]
  },
  {
   "cell_type": "code",
   "execution_count": 29,
   "metadata": {
    "execution": {
     "iopub.execute_input": "2022-08-30T11:44:31.871860Z",
     "iopub.status.busy": "2022-08-30T11:44:31.870976Z",
     "iopub.status.idle": "2022-08-30T11:44:31.876373Z",
     "shell.execute_reply": "2022-08-30T11:44:31.875669Z",
     "shell.execute_reply.started": "2022-08-30T11:44:31.871825Z"
    },
    "scrolled": true,
    "tags": []
   },
   "outputs": [
    {
     "data": {
      "text/plain": [
       "4.6998477"
      ]
     },
     "execution_count": 29,
     "metadata": {},
     "output_type": "execute_result"
    }
   ],
   "source": [
    "loss"
   ]
  },
  {
   "cell_type": "code",
   "execution_count": 32,
   "metadata": {
    "execution": {
     "iopub.execute_input": "2022-08-30T11:48:22.308050Z",
     "iopub.status.busy": "2022-08-30T11:48:22.307419Z",
     "iopub.status.idle": "2022-08-30T11:48:46.205288Z",
     "shell.execute_reply": "2022-08-30T11:48:46.203947Z",
     "shell.execute_reply.started": "2022-08-30T11:48:22.308014Z"
    },
    "scrolled": true,
    "tags": []
   },
   "outputs": [],
   "source": [
    "train_data = train_df.values.astype(np.float32)\n",
    "model = xgb.XGBRegressor(n_estimators=140, random_state=seed, tree_method='gpu_hist', max_depth=7, subsample=0.8701801801801803, learning_rate=0.2031231231231231)\n",
    "loss = cross_val_score(model, train_data[:, :-1], train_data[:, -1:], cv=10, scoring='neg_mean_absolute_error').mean()"
   ]
  },
  {
   "cell_type": "code",
   "execution_count": 33,
   "metadata": {
    "execution": {
     "iopub.execute_input": "2022-08-30T11:48:48.481740Z",
     "iopub.status.busy": "2022-08-30T11:48:48.481070Z",
     "iopub.status.idle": "2022-08-30T11:48:48.486317Z",
     "shell.execute_reply": "2022-08-30T11:48:48.485530Z",
     "shell.execute_reply.started": "2022-08-30T11:48:48.481709Z"
    },
    "scrolled": true,
    "tags": []
   },
   "outputs": [
    {
     "data": {
      "text/plain": [
       "-4.756084632873535"
      ]
     },
     "execution_count": 33,
     "metadata": {},
     "output_type": "execute_result"
    }
   ],
   "source": [
    "loss"
   ]
  },
  {
   "cell_type": "code",
   "execution_count": null,
   "metadata": {
    "scrolled": true,
    "tags": []
   },
   "outputs": [],
   "source": [
    "loss_list = []\n",
    "for i in range(10, 500, 10):\n",
    "    # use gpu\n",
    "    model = xgb.XGBRegressor(n_estimators=i, random_state=seed, tree_method='gpu_hist')\n",
    "\n",
    "    # model.fit(training_data[:, :-1], training_data[:, -1:])\n",
    "    # val_pred = model.predict(val_data[:, :-1])\n",
    "    # loss = mean_absolute_error(val_data[:, -1:], val_pred)\n",
    "    \n",
    "    loss = cross_val_score(model, train_data[:, :-1], train_data[:, -1:], cv=10, scoring='neg_mean_absolute_error').mean()\n",
    "    loss_list.append(loss)\n",
    "    print(i, loss)"
   ]
  },
  {
   "cell_type": "code",
   "execution_count": 31,
   "metadata": {
    "execution": {
     "iopub.execute_input": "2022-08-30T11:47:18.552634Z",
     "iopub.status.busy": "2022-08-30T11:47:18.551941Z",
     "iopub.status.idle": "2022-08-30T11:47:18.557370Z",
     "shell.execute_reply": "2022-08-30T11:47:18.556709Z",
     "shell.execute_reply.started": "2022-08-30T11:47:18.552601Z"
    },
    "scrolled": true,
    "tags": []
   },
   "outputs": [
    {
     "data": {
      "text/plain": [
       "4.6978674"
      ]
     },
     "execution_count": 31,
     "metadata": {},
     "output_type": "execute_result"
    }
   ],
   "source": [
    "loss_list = np.asarray(loss_list)\n",
    "loss_list.min()\n",
    "# 140 4.6851554"
   ]
  },
  {
   "cell_type": "code",
   "execution_count": 23,
   "metadata": {
    "execution": {
     "iopub.execute_input": "2022-08-26T08:39:19.942216Z",
     "iopub.status.busy": "2022-08-26T08:39:19.941119Z",
     "iopub.status.idle": "2022-08-26T08:39:19.945858Z",
     "shell.execute_reply": "2022-08-26T08:39:19.945029Z",
     "shell.execute_reply.started": "2022-08-26T08:39:19.942182Z"
    },
    "scrolled": true,
    "tags": []
   },
   "outputs": [],
   "source": [
    "from matplotlib import pyplot as plt"
   ]
  },
  {
   "cell_type": "code",
   "execution_count": 25,
   "metadata": {
    "execution": {
     "iopub.execute_input": "2022-08-26T08:39:23.635755Z",
     "iopub.status.busy": "2022-08-26T08:39:23.634851Z",
     "iopub.status.idle": "2022-08-26T08:39:24.107535Z",
     "shell.execute_reply": "2022-08-26T08:39:24.106691Z",
     "shell.execute_reply.started": "2022-08-26T08:39:23.635723Z"
    },
    "scrolled": true,
    "tags": []
   },
   "outputs": [
    {
     "data": {
      "image/png": "[encoded data removed]",
      "text/plain": [
       "<Figure size 1152x648 with 1 Axes>"
      ]
     },
     "metadata": {
      "needs_background": "light"
     },
     "output_type": "display_data"
    }
   ],
   "source": [
    "plt.figure(figsize=(16, 9))\n",
    "plt.plot(range(10, 500, 10), loss_list, color='red', label='n_estimators')\n",
    "plt.xticks(range(10, 500, 10))\n",
    "plt.legend()\n",
    "plt.show()"
   ]
  },
  {
   "cell_type": "code",
   "execution_count": null,
   "metadata": {
    "scrolled": true,
    "tags": []
   },
   "outputs": [],
   "source": [
    "loss_list = []\n",
    "for i in range(3, 13):\n",
    "    # use gpu\n",
    "    model = xgb.XGBRegressor(n_estimators=140, random_state=seed, tree_method='gpu_hist', max_depth=i)\n",
    "    model.fit(training_data[:, :-1], training_data[:, -1:])\n",
    "    \n",
    "    val_pred = model.predict(val_data[:, :-1])\n",
    "    loss = mean_absolute_error(val_data[:, -1:], val_pred)\n",
    "    loss_list.append(loss)\n",
    "    print(i, loss)"
   ]
  },
  {
   "cell_type": "code",
   "execution_count": null,
   "metadata": {
    "scrolled": true,
    "tags": []
   },
   "outputs": [],
   "source": [
    "loss_list = []\n",
    "for i in np.linspace(0.01, 1.0, 1000):\n",
    "    # use gpu\n",
    "    model = xgb.XGBRegressor(n_estimators=140, random_state=seed, tree_method='gpu_hist', max_depth=7, subsample=i)\n",
    "    model.fit(training_data[:, :-1], training_data[:, -1:])\n",
    "    \n",
    "    val_pred = model.predict(val_data[:, :-1])\n",
    "    loss = mean_absolute_error(val_data[:, -1:], val_pred)\n",
    "    loss_list.append(loss)\n",
    "    print(i, loss)"
   ]
  },
  {
   "cell_type": "code",
   "execution_count": 30,
   "metadata": {
    "execution": {
     "iopub.execute_input": "2022-08-26T09:16:41.128289Z",
     "iopub.status.busy": "2022-08-26T09:16:41.127537Z",
     "iopub.status.idle": "2022-08-26T09:16:41.133693Z",
     "shell.execute_reply": "2022-08-26T09:16:41.132993Z",
     "shell.execute_reply.started": "2022-08-26T09:16:41.128258Z"
    },
    "scrolled": true,
    "tags": []
   },
   "outputs": [
    {
     "data": {
      "text/plain": [
       "4.673659"
      ]
     },
     "execution_count": 30,
     "metadata": {},
     "output_type": "execute_result"
    }
   ],
   "source": [
    "loss_list = np.asarray(loss_list)\n",
    "loss_list.min()\n",
    "# 0.8687525252525252 4.692885(50, 6)\n",
    "# 0.8701801801801803 4.673659(140, 7)"
   ]
  },
  {
   "cell_type": "code",
   "execution_count": null,
   "metadata": {
    "scrolled": true,
    "tags": []
   },
   "outputs": [],
   "source": [
    "loss_list = []\n",
    "for i in np.linspace(0.01, 0.6, 1000):\n",
    "    # use gpu\n",
    "    model = xgb.XGBRegressor(n_estimators=140, random_state=seed, tree_method='gpu_hist', max_depth=7, subsample=0.8701801801801803, learning_rate=i)\n",
    "    model.fit(training_data[:, :-1], training_data[:, -1:])\n",
    "    \n",
    "    val_pred = model.predict(val_data[:, :-1])\n",
    "    loss = mean_absolute_error(val_data[:, -1:], val_pred)\n",
    "    loss_list.append(loss)\n",
    "    print(i, loss)"
   ]
  },
  {
   "cell_type": "code",
   "execution_count": 11,
   "metadata": {
    "execution": {
     "iopub.execute_input": "2022-08-26T10:39:52.438141Z",
     "iopub.status.busy": "2022-08-26T10:39:52.437405Z",
     "iopub.status.idle": "2022-08-26T10:39:52.443189Z",
     "shell.execute_reply": "2022-08-26T10:39:52.442499Z",
     "shell.execute_reply.started": "2022-08-26T10:39:52.438109Z"
    },
    "scrolled": true,
    "tags": []
   },
   "outputs": [
    {
     "data": {
      "text/plain": [
       "4.6735706"
      ]
     },
     "execution_count": 11,
     "metadata": {},
     "output_type": "execute_result"
    }
   ],
   "source": [
    "loss_list = np.asarray(loss_list)\n",
    "loss_list.min()\n",
    "# 0.37498498498498495 4.685107(50, 6)\n",
    "# 0.2031231231231231 4.6735706(140, 7)"
   ]
  },
  {
   "cell_type": "code",
   "execution_count": 9,
   "metadata": {
    "execution": {
     "iopub.execute_input": "2022-08-30T11:31:43.795353Z",
     "iopub.status.busy": "2022-08-30T11:31:43.794670Z",
     "iopub.status.idle": "2022-08-30T11:31:47.525452Z",
     "shell.execute_reply": "2022-08-30T11:31:47.524485Z",
     "shell.execute_reply.started": "2022-08-30T11:31:43.795320Z"
    },
    "scrolled": true,
    "tags": []
   },
   "outputs": [],
   "source": [
    "# model = xgb.XGBRegressor(n_estimators=50, random_state=seed, tree_method='gpu_hist', subsample=0.8687525252525252, learning_rate=0.37498498498498495)\n",
    "model = xgb.XGBRegressor(n_estimators=140, random_state=seed, tree_method='gpu_hist', max_depth=7, subsample=0.8701801801801803, learning_rate=0.2031231231231231)\n",
    "model.fit(training_data[:, :-1], training_data[:, -1:])\n",
    "\n",
    "test_data = test_df.values.astype(np.float32)\n",
    "test_predict = model.predict(test_data)\n",
    "test_predict = test_predict.round().astype(int)\n",
    "\n",
    "# MAE: 4.685107\n",
    "# cross_MAE: 4.75076003074646\n",
    "# submission: 95.1809\n",
    "\n",
    "# MAE: 4.6735706\n",
    "# cross_MAE: 4.742927551269531\n",
    "# submission: 95.2091"
   ]
  },
  {
   "cell_type": "code",
   "execution_count": 10,
   "metadata": {
    "execution": {
     "iopub.execute_input": "2022-08-30T11:31:56.879162Z",
     "iopub.status.busy": "2022-08-30T11:31:56.878270Z",
     "iopub.status.idle": "2022-08-30T11:31:56.883794Z",
     "shell.execute_reply": "2022-08-30T11:31:56.883065Z",
     "shell.execute_reply.started": "2022-08-30T11:31:56.879129Z"
    },
    "scrolled": true,
    "tags": []
   },
   "outputs": [
    {
     "data": {
      "text/plain": [
       "array([24, 19, 38, ..., 20, 21, 22])"
      ]
     },
     "execution_count": 10,
     "metadata": {},
     "output_type": "execute_result"
    }
   ],
   "source": [
    "test_predict"
   ]
  },
  {
   "cell_type": "code",
   "execution_count": 11,
   "metadata": {
    "execution": {
     "iopub.execute_input": "2022-08-30T11:31:58.941171Z",
     "iopub.status.busy": "2022-08-30T11:31:58.940275Z",
     "iopub.status.idle": "2022-08-30T11:31:59.845335Z",
     "shell.execute_reply": "2022-08-30T11:31:59.844257Z",
     "shell.execute_reply.started": "2022-08-30T11:31:58.941139Z"
    },
    "scrolled": true,
    "tags": []
   },
   "outputs": [
    {
     "name": "stdout",
     "output_type": "stream",
     "text": [
      "updating: submission.csv (deflated 69%)\n"
     ]
    }
   ],
   "source": [
    "pd.DataFrame({\n",
    "    'team_placement': test_predict\n",
    "}).to_csv('submission.csv', index=None)\n",
    "\n",
    "!zip submission.zip submission.csv"
   ]
  }
 ],
 "metadata": {
  "kernelspec": {
   "display_name": "Python 3",
   "language": "python",
   "name": "py35-paddle1.2.0"
  },
  "language_info": {
   "codemirror_mode": {
    "name": "ipython",
    "version": 3
   },
   "file_extension": ".py",
   "mimetype": "text/x-python",
   "name": "python",
   "nbconvert_exporter": "python",
   "pygments_lexer": "ipython3",
   "version": "3.7.4"
  }
 },
 "nbformat": 4,
 "nbformat_minor": 4
}